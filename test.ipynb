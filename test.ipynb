{
 "cells": [
  {
   "cell_type": "markdown",
   "id": "edf0e771-5612-4dcd-971f-07aff0fbc0aa",
   "metadata": {},
   "source": [
    "## ライブラリのインポート"
   ]
  },
  {
   "cell_type": "code",
   "execution_count": 1,
   "id": "3f886e91-59d2-4e25-a00d-cdf83c3e2721",
   "metadata": {},
   "outputs": [],
   "source": [
    "import numpy as np\n",
    "import pandas as pd\n",
    "from IPython import display\n",
    "\n",
    "from typing import List, Tuple, Dict\n",
    "from nptyping import NDArray, Int, Object\n",
    "\n",
    "import warnings\n",
    "warnings.simplefilter('ignore')"
   ]
  },
  {
   "cell_type": "markdown",
   "id": "c0c7afc9-0c00-48f2-95ed-659a83ccfcc6",
   "metadata": {
    "tags": []
   },
   "source": [
    "## 型ヒントチェックの実行"
   ]
  },
  {
   "cell_type": "code",
   "execution_count": 2,
   "id": "367d8346-aa99-40ed-badf-2541eb2e5c42",
   "metadata": {
    "tags": []
   },
   "outputs": [
    {
     "name": "stdout",
     "output_type": "stream",
     "text": [
      "test.ipynb:cell_3:1: \u001b[1m\u001b[31merror:\u001b[m Incompatible types in assignment (expression has type \u001b[m\u001b[1m\"str\"\u001b[m, variable has type \u001b[m\u001b[1m\"int\"\u001b[m)\u001b[m\n",
      "test.ipynb:cell_4:1: \u001b[1m\u001b[31merror:\u001b[m List item 0 has incompatible type \u001b[m\u001b[1m\"str\"\u001b[m; expected \u001b[m\u001b[1m\"int\"\u001b[m\u001b[m\n",
      "test.ipynb:cell_4:1: \u001b[1m\u001b[31merror:\u001b[m List item 1 has incompatible type \u001b[m\u001b[1m\"str\"\u001b[m; expected \u001b[m\u001b[1m\"int\"\u001b[m\u001b[m\n",
      "test.ipynb:cell_4:1: \u001b[1m\u001b[31merror:\u001b[m List item 2 has incompatible type \u001b[m\u001b[1m\"str\"\u001b[m; expected \u001b[m\u001b[1m\"int\"\u001b[m\u001b[m\n",
      "test.ipynb:cell_5:1: \u001b[1m\u001b[31merror:\u001b[m Incompatible types in assignment (expression has type \u001b[m\u001b[1m\"Tuple[str, str, str]\"\u001b[m, variable has type \u001b[m\u001b[1m\"Tuple[int]\"\u001b[m)\u001b[m\n",
      "test.ipynb:cell_6:1: \u001b[1m\u001b[31merror:\u001b[m Dict entry 0 has incompatible type \u001b[m\u001b[1m\"int\"\u001b[m: \u001b[m\u001b[1m\"str\"\u001b[m; expected \u001b[m\u001b[1m\"str\"\u001b[m: \u001b[m\u001b[1m\"int\"\u001b[m\u001b[m\n",
      "test.ipynb:cell_6:1: \u001b[1m\u001b[31merror:\u001b[m Dict entry 1 has incompatible type \u001b[m\u001b[1m\"int\"\u001b[m: \u001b[m\u001b[1m\"str\"\u001b[m; expected \u001b[m\u001b[1m\"str\"\u001b[m: \u001b[m\u001b[1m\"int\"\u001b[m\u001b[m\n",
      "test.ipynb:cell_6:1: \u001b[1m\u001b[31merror:\u001b[m Dict entry 2 has incompatible type \u001b[m\u001b[1m\"int\"\u001b[m: \u001b[m\u001b[1m\"str\"\u001b[m; expected \u001b[m\u001b[1m\"str\"\u001b[m: \u001b[m\u001b[1m\"int\"\u001b[m\u001b[m\n",
      "test.ipynb:cell_7:3: \u001b[1m\u001b[31merror:\u001b[m Incompatible return value type (got \u001b[m\u001b[1m\"int\"\u001b[m, expected \u001b[m\u001b[1m\"str\"\u001b[m)\u001b[m\n",
      "test.ipynb:cell_9:1: \u001b[1m\u001b[31merror:\u001b[m Argument 1 to \u001b[m\u001b[1m\"change_str_to_num1\"\u001b[m has incompatible type \u001b[m\u001b[1m\"int\"\u001b[m; expected \u001b[m\u001b[1m\"str\"\u001b[m\u001b[m\n",
      "\u001b[1m\u001b[31mFound 10 errors in 1 file (checked 1 source file)\u001b[m\n"
     ]
    }
   ],
   "source": [
    "!nbqa mypy test.ipynb"
   ]
  },
  {
   "cell_type": "markdown",
   "id": "5ad9c175-af74-4b92-bae6-17c83bbb8fd0",
   "metadata": {},
   "source": [
    "## 型ヒント"
   ]
  },
  {
   "cell_type": "code",
   "execution_count": 3,
   "id": "ad35c180-2780-4e32-b822-6af11613b114",
   "metadata": {},
   "outputs": [
    {
     "data": {
      "text/plain": [
       "'abc'"
      ]
     },
     "execution_count": 3,
     "metadata": {},
     "output_type": "execute_result"
    }
   ],
   "source": [
    "num :int = \"abc\"\n",
    "num"
   ]
  },
  {
   "cell_type": "markdown",
   "id": "0895f640-3655-431b-8a10-2af81d6f5952",
   "metadata": {},
   "source": [
    "## 型ヒント リスト、タプル"
   ]
  },
  {
   "cell_type": "code",
   "execution_count": 4,
   "id": "26db54a0-94e9-473d-a7a7-4a673907e2bb",
   "metadata": {},
   "outputs": [
    {
     "data": {
      "text/plain": [
       "['a', 'b', 'c']"
      ]
     },
     "execution_count": 4,
     "metadata": {},
     "output_type": "execute_result"
    }
   ],
   "source": [
    "num_list :List[int] = [\"a\", \"b\", \"c\"]\n",
    "num_list"
   ]
  },
  {
   "cell_type": "code",
   "execution_count": 5,
   "id": "e0b6005e-c66e-4b5e-8955-a104c39c283f",
   "metadata": {},
   "outputs": [
    {
     "data": {
      "text/plain": [
       "('a', 'b', 'c')"
      ]
     },
     "execution_count": 5,
     "metadata": {},
     "output_type": "execute_result"
    }
   ],
   "source": [
    "num_tuple :Tuple[int] = (\"a\", \"b\", \"c\")\n",
    "num_tuple"
   ]
  },
  {
   "cell_type": "code",
   "execution_count": 6,
   "id": "8a941016-60f5-4e28-a512-7bfb41932cc4",
   "metadata": {},
   "outputs": [
    {
     "data": {
      "text/plain": [
       "{1: 'a', 2: 'b', 3: 'c'}"
      ]
     },
     "execution_count": 6,
     "metadata": {},
     "output_type": "execute_result"
    }
   ],
   "source": [
    "str_num_dict :Dict[str, int] = {1:\"a\", 2:\"b\", 3:\"c\"}\n",
    "str_num_dict"
   ]
  },
  {
   "cell_type": "markdown",
   "id": "9eaad625-aa58-4995-aea4-d2b69cbd401c",
   "metadata": {},
   "source": [
    "## 型ヒント 関数 返り値ミス"
   ]
  },
  {
   "cell_type": "code",
   "execution_count": 7,
   "id": "8ee41910-c8f6-4e64-a4ef-7c69695ac24b",
   "metadata": {},
   "outputs": [],
   "source": [
    "def change_str_to_num1(num_str: str)-> str:\n",
    "    num = int(num_str)\n",
    "    return num"
   ]
  },
  {
   "cell_type": "code",
   "execution_count": 8,
   "id": "a95638f5-5ca4-4eef-958d-d501832ac478",
   "metadata": {},
   "outputs": [
    {
     "data": {
      "text/plain": [
       "1"
      ]
     },
     "execution_count": 8,
     "metadata": {},
     "output_type": "execute_result"
    }
   ],
   "source": [
    "change_str_to_num1(\"1\")"
   ]
  },
  {
   "cell_type": "markdown",
   "id": "35cec9f9-4c0c-4cc5-b66d-fc85e12da37a",
   "metadata": {},
   "source": [
    "## 型ヒント 関数 引数ミス"
   ]
  },
  {
   "cell_type": "code",
   "execution_count": 9,
   "id": "b060e127-ff6b-4c23-8275-23f9e54d2a2e",
   "metadata": {},
   "outputs": [
    {
     "data": {
      "text/plain": [
       "1"
      ]
     },
     "execution_count": 9,
     "metadata": {},
     "output_type": "execute_result"
    }
   ],
   "source": [
    "change_str_to_num1(1)"
   ]
  },
  {
   "cell_type": "code",
   "execution_count": 10,
   "id": "f2b9a744-1f74-4f09-834e-24e3edd77b4d",
   "metadata": {},
   "outputs": [],
   "source": [
    "def change_str_to_num2(num_str: str)-> int:\n",
    "    num = int(num_str)\n",
    "    return num"
   ]
  },
  {
   "cell_type": "markdown",
   "id": "0fd19c1a-e1ff-40c5-a2bd-ed6fd3ad9fa4",
   "metadata": {},
   "source": [
    "## 型ヒント numpy"
   ]
  },
  {
   "cell_type": "code",
   "execution_count": 11,
   "id": "78c0be50-6a3d-4fea-8506-fdaac23cc20f",
   "metadata": {},
   "outputs": [
    {
     "name": "stdout",
     "output_type": "stream",
     "text": [
      "['a' 'b' 'c']\n"
     ]
    },
    {
     "ename": "AssertionError",
     "evalue": "",
     "output_type": "error",
     "traceback": [
      "\u001b[0;31m---------------------------------------------------------------------------\u001b[0m",
      "\u001b[0;31mAssertionError\u001b[0m                            Traceback (most recent call last)",
      "Input \u001b[0;32mIn [11]\u001b[0m, in \u001b[0;36m<module>\u001b[0;34m\u001b[0m\n\u001b[1;32m      1\u001b[0m num_array \u001b[38;5;241m=\u001b[39m np\u001b[38;5;241m.\u001b[39marray([\u001b[38;5;124m\"\u001b[39m\u001b[38;5;124ma\u001b[39m\u001b[38;5;124m\"\u001b[39m, \u001b[38;5;124m\"\u001b[39m\u001b[38;5;124mb\u001b[39m\u001b[38;5;124m\"\u001b[39m, \u001b[38;5;124m\"\u001b[39m\u001b[38;5;124mc\u001b[39m\u001b[38;5;124m\"\u001b[39m])\n\u001b[1;32m      2\u001b[0m \u001b[38;5;28mprint\u001b[39m(num_array)\n\u001b[0;32m----> 4\u001b[0m \u001b[38;5;28;01massert\u001b[39;00m \u001b[38;5;28misinstance\u001b[39m(num_array, NDArray[\u001b[38;5;241m3\u001b[39m, \u001b[38;5;28mint\u001b[39m])\n",
      "\u001b[0;31mAssertionError\u001b[0m: "
     ]
    }
   ],
   "source": [
    "num_array = np.array([\"a\", \"b\", \"c\"])\n",
    "print(num_array)\n",
    "\n",
    "assert isinstance(num_array, NDArray[3, int])"
   ]
  },
  {
   "cell_type": "code",
   "execution_count": 12,
   "id": "8f46ef3c-2480-4991-b35b-4b36d1b365a2",
   "metadata": {},
   "outputs": [
    {
     "name": "stdout",
     "output_type": "stream",
     "text": [
      "['str' 'str' 'str']\n"
     ]
    },
    {
     "ename": "AssertionError",
     "evalue": "",
     "output_type": "error",
     "traceback": [
      "\u001b[0;31m---------------------------------------------------------------------------\u001b[0m",
      "\u001b[0;31mAssertionError\u001b[0m                            Traceback (most recent call last)",
      "Input \u001b[0;32mIn [12]\u001b[0m, in \u001b[0;36m<module>\u001b[0;34m\u001b[0m\n\u001b[1;32m      2\u001b[0m \u001b[38;5;28mprint\u001b[39m(str_array)\n\u001b[1;32m      4\u001b[0m \u001b[38;5;66;03m# 型チェック\u001b[39;00m\n\u001b[0;32m----> 5\u001b[0m \u001b[38;5;28;01massert\u001b[39;00m \u001b[38;5;28misinstance\u001b[39m(str_array, NDArray[\u001b[38;5;28mlen\u001b[39m(str_array), \u001b[38;5;28mint\u001b[39m])\n",
      "\u001b[0;31mAssertionError\u001b[0m: "
     ]
    }
   ],
   "source": [
    "str_array = np.array([\"str\", \"str\", \"str\"])\n",
    "print(str_array)\n",
    "\n",
    "# 型チェック\n",
    "assert isinstance(str_array, NDArray[len(str_array), int])"
   ]
  },
  {
   "cell_type": "code",
   "execution_count": 13,
   "id": "773a62ab-310f-4a50-b4a0-811996c4b8e2",
   "metadata": {},
   "outputs": [
    {
     "name": "stdout",
     "output_type": "stream",
     "text": [
      "[[1 2]\n",
      " [2 3]]\n"
     ]
    }
   ],
   "source": [
    "double_nim_array = np.array([[1, 2], [2, 3]])\n",
    "print(double_nim_array)\n",
    "\n",
    "# 型チェック\n",
    "assert isinstance(double_nim_array, NDArray[double_nim_array.shape, int])"
   ]
  },
  {
   "cell_type": "markdown",
   "id": "e212fde6-99ce-4bc7-9e85-e2e50f6d79e7",
   "metadata": {},
   "source": [
    "## 型ヒント Pandas"
   ]
  },
  {
   "cell_type": "code",
   "execution_count": 14,
   "id": "a5af7331-c37b-4c6a-8369-671b3121e586",
   "metadata": {},
   "outputs": [
    {
     "ename": "TypeError",
     "evalue": "'module' object is not callable",
     "output_type": "error",
     "traceback": [
      "\u001b[0;31m---------------------------------------------------------------------------\u001b[0m",
      "\u001b[0;31mTypeError\u001b[0m                                 Traceback (most recent call last)",
      "Input \u001b[0;32mIn [14]\u001b[0m, in \u001b[0;36m<module>\u001b[0;34m\u001b[0m\n\u001b[1;32m      1\u001b[0m df \u001b[38;5;241m=\u001b[39m pd\u001b[38;5;241m.\u001b[39mDataFrame(\n\u001b[1;32m      2\u001b[0m     [\n\u001b[1;32m      3\u001b[0m         [\u001b[38;5;241m1\u001b[39m, \u001b[38;5;241m2\u001b[39m, \u001b[38;5;241m3\u001b[39m],\n\u001b[0;32m   (...)\u001b[0m\n\u001b[1;32m      7\u001b[0m     dtype\u001b[38;5;241m=\u001b[39m\u001b[38;5;28mint\u001b[39m,\n\u001b[1;32m      8\u001b[0m )\n\u001b[0;32m----> 9\u001b[0m \u001b[43mdisplay\u001b[49m\u001b[43m(\u001b[49m\u001b[43mdf\u001b[49m\u001b[43m)\u001b[49m\n",
      "\u001b[0;31mTypeError\u001b[0m: 'module' object is not callable"
     ]
    }
   ],
   "source": [
    "df = pd.DataFrame(\n",
    "    [\n",
    "        [1, 2, 3],\n",
    "        [4, 5, 6]\n",
    "    ],\n",
    "    columns=[\"a\", \"b\", \"c\"],\n",
    "    dtype=int,\n",
    ")\n",
    "display(df)"
   ]
  },
  {
   "cell_type": "code",
   "execution_count": 15,
   "id": "9a5fcf60-5af6-4b32-b578-022b044c6320",
   "metadata": {},
   "outputs": [],
   "source": [
    "assert isinstance(df.values, NDArray[df.values.shape, int])"
   ]
  },
  {
   "cell_type": "code",
   "execution_count": 16,
   "id": "9c1a1629-3596-4ca7-af93-f5b74d766d5e",
   "metadata": {},
   "outputs": [
    {
     "ename": "AssertionError",
     "evalue": "",
     "output_type": "error",
     "traceback": [
      "\u001b[0;31m---------------------------------------------------------------------------\u001b[0m",
      "\u001b[0;31mAssertionError\u001b[0m                            Traceback (most recent call last)",
      "Input \u001b[0;32mIn [16]\u001b[0m, in \u001b[0;36m<module>\u001b[0;34m\u001b[0m\n\u001b[0;32m----> 1\u001b[0m \u001b[38;5;28;01massert\u001b[39;00m \u001b[38;5;28misinstance\u001b[39m(df\u001b[38;5;241m.\u001b[39mvalues, NDArray[df\u001b[38;5;241m.\u001b[39mvalues\u001b[38;5;241m.\u001b[39mshape, \u001b[38;5;28mstr\u001b[39m])\n",
      "\u001b[0;31mAssertionError\u001b[0m: "
     ]
    }
   ],
   "source": [
    "assert isinstance(df.values, NDArray[df.values.shape, str])"
   ]
  },
  {
   "cell_type": "code",
   "execution_count": 17,
   "id": "79064559-4eca-47d9-bdf1-64f98d2b8206",
   "metadata": {},
   "outputs": [
    {
     "name": "stdout",
     "output_type": "stream",
     "text": [
      "a [1 4]\n",
      "b [2 5]\n",
      "c [3 6]\n"
     ]
    }
   ],
   "source": [
    "for column_name in df.columns:\n",
    "    print(column_name, df[column_name].values)\n",
    "    assert isinstance(df[column_name].values, NDArray[df[column_name].values.shape, int])"
   ]
  },
  {
   "cell_type": "code",
   "execution_count": 18,
   "id": "682f4fcb-b0c7-47f1-bbc4-dd95074ab381",
   "metadata": {},
   "outputs": [
    {
     "name": "stdout",
     "output_type": "stream",
     "text": [
      "a [1 4]\n"
     ]
    },
    {
     "ename": "AssertionError",
     "evalue": "カラム名:a",
     "output_type": "error",
     "traceback": [
      "\u001b[0;31m---------------------------------------------------------------------------\u001b[0m",
      "\u001b[0;31mAssertionError\u001b[0m                            Traceback (most recent call last)",
      "Input \u001b[0;32mIn [18]\u001b[0m, in \u001b[0;36m<module>\u001b[0;34m\u001b[0m\n\u001b[1;32m      1\u001b[0m \u001b[38;5;28;01mfor\u001b[39;00m column_name \u001b[38;5;129;01min\u001b[39;00m df\u001b[38;5;241m.\u001b[39mcolumns:\n\u001b[1;32m      2\u001b[0m     \u001b[38;5;28mprint\u001b[39m(column_name, df[column_name]\u001b[38;5;241m.\u001b[39mvalues)\n\u001b[0;32m----> 3\u001b[0m     \u001b[38;5;28;01massert\u001b[39;00m \u001b[38;5;28misinstance\u001b[39m(df[column_name]\u001b[38;5;241m.\u001b[39mvalues, NDArray[df[column_name]\u001b[38;5;241m.\u001b[39mvalues\u001b[38;5;241m.\u001b[39mshape, \u001b[38;5;28mstr\u001b[39m]), \u001b[38;5;124m\"\u001b[39m\u001b[38;5;124mカラム名:\u001b[39m\u001b[38;5;124m\"\u001b[39m \u001b[38;5;241m+\u001b[39m column_name\n",
      "\u001b[0;31mAssertionError\u001b[0m: カラム名:a"
     ]
    }
   ],
   "source": [
    "for column_name in df.columns:\n",
    "    print(column_name, df[column_name].values)\n",
    "    assert isinstance(df[column_name].values, NDArray[df[column_name].values.shape, str]), \"カラム名:\" + column_name"
   ]
  },
  {
   "cell_type": "code",
   "execution_count": 19,
   "id": "e88dd8a5-dca7-40d6-b81f-5c8189ee931f",
   "metadata": {},
   "outputs": [],
   "source": [
    "df[\"c\"] = df[\"c\"].astype(str)"
   ]
  },
  {
   "cell_type": "code",
   "execution_count": 20,
   "id": "ab80ed8d-c0e7-4c4e-827a-bd0c9b477acf",
   "metadata": {},
   "outputs": [
    {
     "name": "stdout",
     "output_type": "stream",
     "text": [
      "a [1 4]\n",
      "b [2 5]\n",
      "c ['3' '6']\n"
     ]
    },
    {
     "ename": "AssertionError",
     "evalue": "c",
     "output_type": "error",
     "traceback": [
      "\u001b[0;31m---------------------------------------------------------------------------\u001b[0m",
      "\u001b[0;31mAssertionError\u001b[0m                            Traceback (most recent call last)",
      "Input \u001b[0;32mIn [20]\u001b[0m, in \u001b[0;36m<module>\u001b[0;34m\u001b[0m\n\u001b[1;32m      1\u001b[0m \u001b[38;5;28;01mfor\u001b[39;00m column_name \u001b[38;5;129;01min\u001b[39;00m df\u001b[38;5;241m.\u001b[39mcolumns:\n\u001b[1;32m      2\u001b[0m     \u001b[38;5;28mprint\u001b[39m(column_name, df[column_name]\u001b[38;5;241m.\u001b[39mvalues)\n\u001b[0;32m----> 3\u001b[0m     \u001b[38;5;28;01massert\u001b[39;00m \u001b[38;5;28misinstance\u001b[39m(df[column_name]\u001b[38;5;241m.\u001b[39mvalues, NDArray[df[column_name]\u001b[38;5;241m.\u001b[39mvalues\u001b[38;5;241m.\u001b[39mshape, \u001b[38;5;28mint\u001b[39m]), column_name\n",
      "\u001b[0;31mAssertionError\u001b[0m: c"
     ]
    }
   ],
   "source": [
    "for column_name in df.columns:\n",
    "    print(column_name, df[column_name].values)\n",
    "    assert isinstance(df[column_name].values, NDArray[df[column_name].values.shape, int]), column_name"
   ]
  },
  {
   "cell_type": "code",
   "execution_count": 21,
   "id": "b8b1d742-795f-4b20-a5e8-c04e05dcaca0",
   "metadata": {},
   "outputs": [
    {
     "name": "stdout",
     "output_type": "stream",
     "text": [
      "a [1 4] int64 <class 'int'>\n",
      "b [2 5] int64 <class 'int'>\n",
      "c ['3' '6'] object Object\n"
     ]
    }
   ],
   "source": [
    "type_list = [int, int, Object]\n",
    "\n",
    "for i, column_name in enumerate(df.columns):\n",
    "    print(column_name, df[column_name].values, df[column_name].dtypes, type_list[i])\n",
    "    assert isinstance(df[column_name].values, NDArray[df[column_name].values.shape, type_list[i]]), column_name"
   ]
  },
  {
   "cell_type": "code",
   "execution_count": null,
   "id": "1adb66ab-9a50-4f52-938d-20551cbdee76",
   "metadata": {},
   "outputs": [],
   "source": []
  }
 ],
 "metadata": {
  "kernelspec": {
   "display_name": "Python 3 (ipykernel)",
   "language": "python",
   "name": "python3"
  },
  "language_info": {
   "codemirror_mode": {
    "name": "ipython",
    "version": 3
   },
   "file_extension": ".py",
   "mimetype": "text/x-python",
   "name": "python",
   "nbconvert_exporter": "python",
   "pygments_lexer": "ipython3",
   "version": "3.9.7"
  }
 },
 "nbformat": 4,
 "nbformat_minor": 5
}
